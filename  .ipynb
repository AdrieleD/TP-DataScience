{
 "cells": [
  {
   "cell_type": "markdown",
   "metadata": {},
   "source": [
    "![](logo.png)\n",
    "---------------------------------------"
   ]
  },
  {
   "cell_type": "markdown",
   "metadata": {},
   "source": [
    "    Aluna (s):     Adriele Dutra Souza                             Matrícula (s): 1788\n",
    "                   Juliana Rezende Silveira Baia Alves                            1787\n",
    "                   Raissa Polyanna Papini de Melo Souza                           2252 "
   ]
  },
  {
   "cell_type": "markdown",
   "metadata": {},
   "source": [
    "<center> \n",
    "    \n",
    "# Relatório\n",
    "\n",
    "A primeira decisão a ser tomada no trabalho prático foi a escolha do *dataset* a ser utilizado. O grupo escolheu o dataset do *site Kaggle* referente a músicas, que basicamente é composto por uma tabela .csv que contém as músicas mais tocadas no *Spotify*. Os dados presentes nesta tabela, foram coletados desde o dia primeiro de janeiro de 2017 até 9 de janeiro de 2018.\n",
    "\n",
    "A segunda etapa do trabalho consiste na preparação do ambiente para que posteriormente seja possível realizar a análise dos dados. Para isso foram tomadas algumas decisões importantes sobre a formatação e tratamento destes, como por exemplo, a necessidade de aplicar técnicas para eliminar possíveis ruídos que possam interferir nos resultados, e verificar se a estrutura da tabela atende bem aos requisitos. \n",
    "\n",
    "Foi utilizado o *Jupyter Notebook* como ferramenta principal e a linguagem *Python*, assim como em sala de aula. Após criado o projeto, a primeira coisa feita foi a importação de bibliotecas básicas necessárias e a leitura do arquivo .csv, que não foi difícil pois já se encontrava em uma estrutura fácil de ser lida. A única modificação foi a adição do parâmetro “low_memory = False” e a retirada do cabeçalho.\n"
   ]
  },
  {
   "cell_type": "markdown",
   "metadata": {},
   "source": [
    "    # Importando bibliotecas necessárias\n",
    "\n",
    "```python\n",
    "import numpy as np\n",
    "import pandas as pd\n",
    "import matplotlib.pyplot as plt\n",
    "```"
   ]
  },
  {
   "cell_type": "markdown",
   "metadata": {},
   "source": [
    "    # Lendo o dataset\n",
    "```python\n",
    "musicas = pd.read_csv('data.csv', index_col=False, squeeze=True, low_memory=False);\n",
    "musicas.rename(columns={'Track Name':'TrackName'}, inplace=True)\n",
    "musicas\n",
    "```"
   ]
  },
  {
   "cell_type": "markdown",
   "metadata": {},
   "source": [
    "Após a leitura do arquivo, o nome da coluna “Track Name” foi substituído para “TrackName” para uma melhor manipulação dos dados. Uma vez que o nome das colunas tenham sido padronizados, foi feita uma verificação para analisar se havia alguma célula do arquivo vazia, dentre as 3441197 linhas x 7 colunas apresentadas da tabela. Caso houvesse, o próximo passo seria investigar o motivo da célula estar nula. Mesmo não encontrando ruídos deste tipo, foi implementado um trecho de código para eventuais alterações da tabela. Posteriormente, fizemos uma análise para verificar se havia células com números negativos no *dataset*, mas não obtivemos nenhum resultado."
   ]
  },
  {
   "cell_type": "markdown",
   "metadata": {},
   "source": [
    "    # Verifica se há células nulas\n",
    "\n",
    "```python\n",
    "result1 = len(musicas) - pd.isnull(musicas.Position).count()\n",
    "result2 = len(musicas) - pd.isnull(musicas.TrackName).count()\n",
    "result3 = len(musicas) - pd.isnull(musicas.Artist).count()\n",
    "result4 = len(musicas) - pd.isnull(musicas.Streams).count()\n",
    "result5 = len(musicas) - pd.isnull(musicas.URL).count()\n",
    "result6 = len(musicas) - pd.isnull(musicas.Date).count()\n",
    "result7 = len(musicas) - pd.isnull(musicas.Region).count()\n",
    "\n",
    "resultado = result1 + result2 + result3 + result4 + result5 + result6 + result7\n",
    "print(\"Quantidade de celulas nulas: \", resultado)\n",
    "```"
   ]
  },
  {
   "cell_type": "markdown",
   "metadata": {
    "collapsed": true
   },
   "source": [
    "    # Eliminar células com campos vazios\n",
    "```python\n",
    "musicas.dropna(axis=0, subset=['Position'], inplace=True)\n",
    "musicas.dropna(axis=0, subset=['TrackName'], inplace=True)\n",
    "musicas.dropna(axis=0, subset=['Artist'], inplace=True)\n",
    "musicas.dropna(axis=0, subset=['Streams'], inplace=True)\n",
    "musicas.dropna(axis=0, subset=['URL'], inplace=True)\n",
    "musicas.dropna(axis=0, subset=['Date'], inplace=True)\n",
    "musicas.dropna(axis=0, subset=['Region'], inplace=True)\n",
    "\n",
    "musicas\n",
    "```"
   ]
  },
  {
   "cell_type": "markdown",
   "metadata": {},
   "source": [
    "    # Verificar se há alguma célula com valor negativo\n",
    "\n",
    "```Python\n",
    "musicas[(musicas['Streams'] < 0) | (musicas['Position'] < 0)]\n",
    "```"
   ]
  },
  {
   "cell_type": "markdown",
   "metadata": {},
   "source": [
    "Neste ponto, foi possível perceber que haviam caracteres especiais posicionados em lugares indevidos que poderiam atrapalhar na manipulação dos dados e na legibilidade dos dados presentes na tabela. Sendo assim, foi criada uma função para remoção e/ou substituição destes caracteres, removendo, assim, tais ruídos. Além disso, utilizamos uma função para remover espaços em branco do começo e fim dos ítens do tipo *String*, para evitar que duas ou mais *strings* iguais sejam diferenciadas entre si."
   ]
  },
  {
   "cell_type": "markdown",
   "metadata": {},
   "source": [
    "    # Eliminar ruídos nos nomes das músicas e artistas\n",
    "```python\n",
    "def corrigir (nome):\n",
    "    nome = nome.replace('#', '').replace('$', 's').replace('*', '')\n",
    "    return nome\n",
    "\n",
    "musicas.Artist = musicas.Artist.apply(corrigir)\n",
    "musicas.TrackName = musicas.TrackName.apply(corrigir)\n",
    "musicas\n",
    "```"
   ]
  },
  {
   "cell_type": "markdown",
   "metadata": {},
   "source": [
    "    # Tira os espaços em branco do começo e fim da String, para evitar que as mesmas sejam diferenciadas\n",
    "\n",
    "```Python\n",
    "musicas['TrackName'] = musicas['TrackName'].str.strip()\n",
    "musicas['Artist'] = musicas['Artist'].str.strip()\n",
    "musicas['URL'] = musicas['URL'].str.strip()\n",
    "musicas['Date'] = musicas['Date'].str.strip()\n",
    "musicas['Region'] = musicas['Region'].str.strip()\n",
    "```"
   ]
  },
  {
   "cell_type": "markdown",
   "metadata": {},
   "source": [
    "Tendo em vista a complexidade de se trabalhar com datas (dia/mês/ano), transformamos esta informação, primeiramente, em dias transcorridos para facilitar na manipulação dos dados e acrescentamos ao _dataframe_ original uma coluna com o número(dia) referente à cada data. "
   ]
  },
  {
   "cell_type": "markdown",
   "metadata": {},
   "source": [
    "    # Tranforma as datas em dias transcorridos para facilitar na manipulação\n",
    "\n",
    "```Python\n",
    "print (\"Primeira Data: {}\\nÚltima Data: {}\".format(musicas.Date.min(),musicas.Date.max())) # Verifica primeira e última data\n",
    "Dates = pd.to_datetime(musicas.Date) # Verifica o formato da data\n",
    "Days = Dates.sub(Dates[0], axis = 0) # Subtrai resultados redundantes\n",
    "Days = Days / np.timedelta64(1, 'D') # converte para Float\n",
    "print (\"Primeiro Dia: {}\\nÚltimo Dia: {}\".format(Days.min(), Days.max())) # check converted first and last days elapsed\n",
    "musicas['Days'] = Days # Adiciona a nova coluna com Float's ao dataframe\n",
    "```"
   ]
  },
  {
   "cell_type": "markdown",
   "metadata": {},
   "source": [
    "Ainda em relação às informações sobre datas, outra alternativa que utilizamos também para facilitar a manipulação dos dados foi utilizar apenas o mês e o ano. Fazendo isso é possível extrair estatísticas sobre um período de tempo mais específico."
   ]
  },
  {
   "cell_type": "markdown",
   "metadata": {},
   "source": [
    "    #Classifica a data apenas em ano e mês\n",
    "    \n",
    "```Python\n",
    "musicas['Year'] = musicas.Date.str[:4]\n",
    "musicas['Month'] = musicas.Date.str[5:7]\n",
    "```"
   ]
  },
  {
   "cell_type": "markdown",
   "metadata": {},
   "source": [
    "De acordo com a descrição deste trabalho prático, a terceira etapa consiste em explorar e extrair informações e estatisticas sobre os dados. "
   ]
  },
  {
   "cell_type": "markdown",
   "metadata": {},
   "source": [
    "Foi possível perceber, através do comando value_counts(), aplicado à coluna ‘Track Name’, que das 3441197 linhas presentes na tabela, somente 18597 músicas são distintas, o que pode soar um pouco estranho. Este resultado pode se dar pelo fato de que muitos artistas possuem músicas com nomes iguais, interferindo, assim, no retorno da função utilizada. "
   ]
  },
  {
   "cell_type": "markdown",
   "metadata": {},
   "source": [
    "    # Verificar a quantidade de músicas distintas no dataset\n",
    "```python\n",
    "Nomes = musicas['TrackName']\n",
    "totalNomes = len(Nomes.value_counts())\n",
    "print( \"O total de nome de musicas distintas é de : \", totalNomes)\n",
    "print(\"E o tamanho do nosso dataset é de \", len(musicas), \"linhas (musicas)\")\n",
    "```"
   ]
  },
  {
   "cell_type": "markdown",
   "metadata": {},
   "source": [
    "Com o intuito de analisar o comportamento dos streams, os dados foram agrupados por região e, assim, foi possível visualizar melhor o seu comportamento.  Devido a isso, agrupamos por região os dados para verificarmos se alguma região estava se apresentando de forma errada na tabela, caso o GPS tenha coletado algo erroneamente ou o usuário tenha digitado errado. Agrupando, é possível verificar se há alguma região errada, com nome diferente, ou inexistente."
   ]
  },
  {
   "cell_type": "markdown",
   "metadata": {},
   "source": [
    "    # Quantidade de Streams por região\n",
    "```python\n",
    "paises = musicas.groupby('Region')\n",
    "paises_sum = paises.sum()\n",
    "paises_sum['Streams'].plot(kind='bar')\n",
    "plt.yscale('log')\n",
    "plt.rcParams['figure.figsize'] = (18,8)\n",
    "plt.legend(loc='upper right', prop={'size':12}, fontsize=1)\n",
    "plt.show()\n",
    "```\n",
    "![Quantidade de Streams por país](output_9_0.png \"Quantidade de Streams por país\")"
   ]
  },
  {
   "cell_type": "markdown",
   "metadata": {
    "scrolled": false
   },
   "source": [
    "```python\n",
    "#Ranking dos 25 artistas mais acessados\n",
    "artistas = musicas.groupby('Artist')\n",
    "artistas_soma = artistas.Streams.sum()\n",
    "\n",
    "#Cria um novo dataframe para manipulação\n",
    "contStreams=pd.DataFrame(artistas_soma)\n",
    "contStreamsM = contStreams.Streams.sort_values(ascending=False)\n",
    "contStreamsM = contStreamsM[:25]\n",
    "\n",
    "contStreamsM.plot(kind='bar')\n",
    "plt.rcParams['figure.figsize'] = (18,8)\n",
    "plt.legend(loc='upper right', prop={'size':12}, fontsize=1)\n",
    "plt.yscale('log')\n",
    "plt.show()\n",
    "```\n",
    "![Ranking dos 25 artistas mais acessados](output_8_0.png \"Ranking dos 25 artistas mais acessados\")\n"
   ]
  },
  {
   "cell_type": "markdown",
   "metadata": {},
   "source": [
    "   Em seguida foi feito um gráfico de dispersão no qual o eixo x representa as datas e o eixo y representa as Streams. Este gráfico foi feito pensando que, durante um ano, as visualizações de músicas podem ser mais intensas ou não, e esta análise é interessante para, por exemplo, saber quando colocar mais anúncios em um aplicativo por saber que o fluxo de streams é mais intenso naquela época do ano. Ou é também para saber quando um artista ou vários artistas lançam mais músicas e outras análises podem ser tiradas, a partir deste gráfico, por especialistas.\n",
    "   O gráfico pega todas as datas presentes do nosso dataset, porém foi feita uma filtragem dos xtickslabels, para melhorar a visualização do gráfico, pois se não houvesse tal seleção dos xticklabels, não seria possível a leitura das datas, tornando o gráfico ilegível.\n",
    "   "
   ]
  },
  {
   "cell_type": "markdown",
   "metadata": {},
   "source": [
    "   Foi feito também um outro gráfico de dispersão, no qual o eixo x representa o nome do cantor e o eixo y representa a track name, que seria o nome da música, sendo assim, gera uma relação que representa a música de cada cantor. Além disso foi representada uma outra camada de cor, através de um colorbar, que representa as Streamns, dessa forma, mostra para nós uma análise das músicas mais tocadas de cada cantor.\n",
    "   Essa análise é muito interessante pois se rodada com o dataset inteiro mostraria todas as músicas mais tocadas de todos os cantores. "
   ]
  },
  {
   "cell_type": "code",
   "execution_count": null,
   "metadata": {},
   "outputs": [],
   "source": []
  }
 ],
 "metadata": {
  "kernelspec": {
   "display_name": "Python 3",
   "language": "python",
   "name": "python3"
  },
  "language_info": {
   "codemirror_mode": {
    "name": "ipython",
    "version": 3
   },
   "file_extension": ".py",
   "mimetype": "text/x-python",
   "name": "python",
   "nbconvert_exporter": "python",
   "pygments_lexer": "ipython3",
   "version": "3.6.4"
  }
 },
 "nbformat": 4,
 "nbformat_minor": 2
}
