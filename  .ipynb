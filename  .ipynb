{
 "cells": [
  {
   "cell_type": "markdown",
   "metadata": {},
   "source": [
    "![](logo.png)\n",
    "---------------------------------------"
   ]
  },
  {
   "cell_type": "markdown",
   "metadata": {},
   "source": [
    "    Aluna (s):     Adriele Dutra Souza                             Matrícula (s): 1788\n",
    "                   Juliana Rezende Silveira Baia Alves                            1787\n",
    "                   Raissa Polyanna Papini de Melo Souza                           2252 "
   ]
  },
  {
   "cell_type": "markdown",
   "metadata": {},
   "source": [
    "<center> \n",
    "    \n",
    "# Relatório\n",
    "\n",
    "A primeira decisão a ser tomada no trabalho prático foi a escolha do *dataset* a ser utilizado. O grupo escolheu o dataset do *site Kaggle* referente a músicas, que basicamente é composto por uma tabela .csv que contém as músicas mais tocadas no *Spotify*. Os dados presentes nesta tabela, foram coletados desde o dia primeiro de janeiro de 2017 até 9 de janeiro de 2018.\n",
    "\n",
    "A segunda etapa do trabalho consiste na preparação do ambiente para que posteriormente seja possível realizar a análise dos dados. Para isso foram tomadas algumas decisões importantes sobre a formatação e tratamento destes, como por exemplo, a necessidade de aplicar técnicas para eliminar possíveis ruídos que possam interferir nos resultados, e verificar se a estrutura da tabela atende bem aos requisitos. \n",
    "\n",
    "Foi utilizado o *Jupyter Notebook* como ferramenta principal e a linguagem *Python*, assim como em sala de aula. Após criado o projeto, a primeira coisa feita foi a importação de bibliotecas básicas necessárias e a leitura do arquivo .csv, que não foi difícil pois já se encontrava em uma estrutura fácil de ser lida. A única modificação foi a adição do parâmetro “low_memory = False” e a retirada do cabeçalho.\n"
   ]
  },
  {
   "cell_type": "markdown",
   "metadata": {},
   "source": [
    "```python\n",
    "    # Importando bibliotecas necessárias\n",
    "\n",
    "import numpy as np\n",
    "import pandas as pd\n",
    "import matplotlib.pyplot as plt\n",
    "```"
   ]
  },
  {
   "cell_type": "markdown",
   "metadata": {},
   "source": [
    "```python\n",
    "    # Lendo o dataset\n",
    "\n",
    "musicas = pd.read_csv('data.csv', index_col=False, squeeze=True, low_memory=False);\n",
    "musicas.rename(columns={'Track Name':'TrackName'}, inplace=True)\n",
    "musicas\n",
    "```"
   ]
  },
  {
   "cell_type": "markdown",
   "metadata": {},
   "source": [
    "Após a leitura do arquivo, o nome da coluna “Track Name” foi substituído para “TrackName” para uma melhor manipulação dos dados. Uma vez que o nome das colunas tenham sido padronizados, foi feita uma verificação para analisar se havia alguma célula do arquivo vazia, dentre as 3441197 linhas x 7 colunas apresentadas da tabela. Caso houvesse, o próximo passo seria investigar o motivo da célula estar nula. Mesmo não encontrando ruídos deste tipo, foi implementado um trecho de código para eventuais alterações da tabela. Posteriormente, fizemos uma análise para verificar se havia células com números negativos no *dataset*, mas não obtivemos nenhum resultado."
   ]
  },
  {
   "cell_type": "markdown",
   "metadata": {},
   "source": [
    "```python\n",
    "    # Verifica se há células nulas\n",
    "\n",
    "result1 = len(musicas) - pd.isnull(musicas.Position).count()\n",
    "result2 = len(musicas) - pd.isnull(musicas.TrackName).count()\n",
    "result3 = len(musicas) - pd.isnull(musicas.Artist).count()\n",
    "result4 = len(musicas) - pd.isnull(musicas.Streams).count()\n",
    "result5 = len(musicas) - pd.isnull(musicas.URL).count()\n",
    "result6 = len(musicas) - pd.isnull(musicas.Date).count()\n",
    "result7 = len(musicas) - pd.isnull(musicas.Region).count()\n",
    "\n",
    "resultado = result1 + result2 + result3 + result4 + result5 + result6 + result7\n",
    "print(\"Quantidade de celulas nulas: \", resultado)\n",
    "```"
   ]
  },
  {
   "cell_type": "markdown",
   "metadata": {
    "collapsed": true
   },
   "source": [
    "```python\n",
    "    # Eliminar células com campos vazios\n",
    "\n",
    "musicas.dropna(axis=0, subset=['Position'], inplace=True)\n",
    "musicas.dropna(axis=0, subset=['TrackName'], inplace=True)\n",
    "musicas.dropna(axis=0, subset=['Artist'], inplace=True)\n",
    "musicas.dropna(axis=0, subset=['Streams'], inplace=True)\n",
    "musicas.dropna(axis=0, subset=['URL'], inplace=True)\n",
    "musicas.dropna(axis=0, subset=['Date'], inplace=True)\n",
    "musicas.dropna(axis=0, subset=['Region'], inplace=True)\n",
    "\n",
    "musicas\n",
    "```"
   ]
  },
  {
   "cell_type": "markdown",
   "metadata": {},
   "source": [
    "```Python\n",
    "    # Verificar se há alguma célula com valor negativo\n",
    "\n",
    "musicas[(musicas['Streams'] < 0) | (musicas['Position'] < 0)]\n",
    "```"
   ]
  },
  {
   "cell_type": "markdown",
   "metadata": {},
   "source": [
    "Neste ponto, foi possível perceber que haviam caracteres especiais posicionados em lugares indevidos que poderiam atrapalhar na manipulação dos dados e na legibilidade dos dados presentes na tabela. Sendo assim, foi criada uma função para remoção e/ou substituição destes caracteres, removendo, assim, tais ruídos. Além disso, utilizamos uma função para remover espaços em branco do começo e fim dos ítens do tipo *String*, para evitar que duas ou mais *strings* iguais sejam diferenciadas entre si."
   ]
  },
  {
   "cell_type": "markdown",
   "metadata": {},
   "source": [
    "```python\n",
    "    # Eliminar ruídos nos nomes das músicas e artistas\n",
    "\n",
    "def corrigir (nome):\n",
    "    nome = nome.replace('#', '').replace('$', 's').replace('*', '')\n",
    "    return nome\n",
    "\n",
    "musicas.Artist = musicas.Artist.apply(corrigir)\n",
    "musicas.TrackName = musicas.TrackName.apply(corrigir)\n",
    "musicas\n",
    "```"
   ]
  },
  {
   "cell_type": "markdown",
   "metadata": {},
   "source": [
    "```Python\n",
    "    # Tira os espaços em branco do começo e fim da String, para evitar que as mesmas sejam diferenciadas\n",
    "\n",
    "musicas['TrackName'] = musicas['TrackName'].str.strip()\n",
    "musicas['Artist'] = musicas['Artist'].str.strip()\n",
    "musicas['URL'] = musicas['URL'].str.strip()\n",
    "musicas['Date'] = musicas['Date'].str.strip()\n",
    "musicas['Region'] = musicas['Region'].str.strip()\n",
    "```"
   ]
  },
  {
   "cell_type": "markdown",
   "metadata": {},
   "source": [
    "Tendo em vista a complexidade de se trabalhar com datas (dia/mês/ano), transformamos esta informação, primeiramente, em dias transcorridos para facilitar na manipulação dos dados e acrescentamos ao _dataframe_ original uma coluna com o número(dia) referente à cada data. "
   ]
  },
  {
   "cell_type": "markdown",
   "metadata": {},
   "source": [
    "```Python\n",
    "    # Tranforma as datas em dias transcorridos para facilitar na manipulação\n",
    "\n",
    "print (\"Primeira Data: {}\\nÚltima Data: {}\".format(musicas.Date.min(),musicas.Date.max())) # Verifica primeira e última data\n",
    "Dates = pd.to_datetime(musicas.Date) # Verifica o formato da data\n",
    "Days = Dates.sub(Dates[0], axis = 0) # Subtrai resultados redundantes\n",
    "Days = Days / np.timedelta64(1, 'D') # converte para Float\n",
    "print (\"Primeiro Dia: {}\\nÚltimo Dia: {}\".format(Days.min(), Days.max())) # check converted first and last days elapsed\n",
    "musicas['Days'] = Days # Adiciona a nova coluna com Float's ao dataframe\n",
    "```"
   ]
  },
  {
   "cell_type": "markdown",
   "metadata": {},
   "source": [
    "Ainda em relação às informações sobre datas, outra alternativa que utilizamos também para facilitar a manipulação dos dados foi utilizar apenas o mês e o ano. Fazendo isso é possível extrair estatísticas sobre um período de tempo mais específico."
   ]
  },
  {
   "cell_type": "markdown",
   "metadata": {},
   "source": [
    "```Python\n",
    "    #Classifica a data apenas em ano e mês\n",
    "\n",
    "musicas['Year'] = musicas.Date.str[:4]\n",
    "musicas['Month'] = musicas.Date.str[5:7]\n",
    "```"
   ]
  },
  {
   "cell_type": "markdown",
   "metadata": {},
   "source": [
    "Além das alterações e informações apresentadas anteriormente, foi necessário também, pesquisar sobre as regiões presentes no _dataset_, uma vez que as mesmas são  identificadas apenas por sua respectiva sigla, o que pode causar um pouco de confusão no momento de analisar as informações extraídas do conjunto de dados referentes ao atributo \"Region\". Segue abaixo a tabela contendo a sigla e seu respectivo nome.\n",
    "\n",
    "|    Sigla    |     Região      |\n",
    "|-------------|-----------------|\n",
    "|     ar      |Argentina        |\n",
    "|     at      |Austria          |\n",
    "|     au      |Australia        |\n",
    "|     be      |Belgium          | \n",
    "|     bo      |Bolivia          |\n",
    "|     br      |Brazil           |\n",
    "|     ca      |Canada           |\n",
    "|     ch      |Switzerland      | \n",
    "|     cl      |Chile            | \n",
    "|     co      |Columbia         |\n",
    "|     cr      |CostaRica        | \n",
    "|     cz      |CzechRepublic    | \n",
    "|     de      |Germany          |\n",
    "|     dk      |Denmark          | \n",
    "|     do      |DominicanRepublic|\n",
    "|     ec      |Ecuador          |\n",
    "|     ee      |Estonia          |\n",
    "|     es      |Spain            |\n",
    "|     fi      |Finland          |\n",
    "|     fr      |France           |\n",
    "|     gb      |UnitedKingdom    |\n",
    "|     global  |World            |\n",
    "|     gr      |Greece           |\n",
    "|     gt      |Guatemala        |\n",
    "|     hk      |HongKong         |\n",
    "|     hn      |Honduras         |\n",
    "|     hu      |Hungary          |\n",
    "|     id      |Indonesia        |\n",
    "|     ie      |Ireland          |\n",
    "|     is      |Iceland          |\n",
    "|     it      |Italy            |\n",
    "|     jp      |Japan            |\n",
    "|     lt      |Lithuania        |\n",
    "|     lu      |Luxemborg        |\n",
    "|     lv      |Latvia           |\n",
    "|     mx      |Mexico           |\n",
    "|     my      |Malaysia         |\n",
    "|     nl      |Netherlands      |\n",
    "|     no      |Norway           |\n",
    "|     nz      |NewZealand       |\n",
    "|     pa      |Panama           |\n",
    "|     pe      |Peru             |\n",
    "|     ph      |Philippines      |\n",
    "|     pl      |Poland           |\n",
    "|     pt      |Portugal         |\n",
    "|     py      |Paraguay         |\n",
    "|     se      |Sweden           |\n",
    "|     sg      |Singapore        |\n",
    "|     sk      |Slovakia         |\n",
    "|     sv      |ElSalvador       |\n",
    "|     tr      |Turkey           |\n",
    "|     tw      |Taiwan           |\n",
    "|     us      |USA              |\n",
    "|     uy      |Uruguay          |\n",
    "\n"
   ]
  },
  {
   "cell_type": "markdown",
   "metadata": {},
   "source": [
    "De acordo com a descrição deste trabalho prático, a terceira etapa consiste em explorar e extrair informações, a fim de se gerar estatisticas, gráficos e/ou tabelas para um melhor entendimento dos dados. Além de realizar análise da correlação entre todos os atributos e objetos possíveis.\n",
    "\n",
    "Primeiramente, realizamos cálculos estatísticos com base no atributo \"Streams\" utilizando a função describe() que é proveniente da biblioteca pandas."
   ]
  },
  {
   "cell_type": "markdown",
   "metadata": {},
   "source": [
    " ```python\n",
    "    # Cálculos estatísticos com base na coluna \"Streams\" utilizando a função describe()\n",
    "\n",
    "musicas['Streams'].describe()\n",
    "```"
   ]
  },
  {
   "cell_type": "markdown",
   "metadata": {},
   "source": [
    "Prosseguindo a análise, foi possível perceber, através do comando value_counts(), aplicado à coluna ‘Track Name’, que das 3441197 linhas presentes na tabela, somente 18597 músicas são distintas, o que pode soar um pouco estranho. Este resultado pode se dar pelo fato de que muitos artistas possuem músicas com nomes iguais, interferindo, assim, no retorno da função utilizada. "
   ]
  },
  {
   "cell_type": "markdown",
   "metadata": {},
   "source": [
    "```python\n",
    "    # Verificar a quantidade de músicas distintas no dataset\n",
    "\n",
    "Nomes = musicas['TrackName']\n",
    "totalNomes = len(Nomes.value_counts())\n",
    "print( \"O total de nome de musicas distintas é de : \", totalNomes)\n",
    "print(\"E o tamanho do nosso dataset é de \", len(musicas), \"linhas (musicas)\")\n",
    "```"
   ]
  },
  {
   "cell_type": "markdown",
   "metadata": {},
   "source": [
    "Com o intuito de analisar o comportamento dos streams, os dados foram agrupados por região e, assim, foi possível visualizar melhor o seu comportamento.  Devido a isso, agrupamos por região os dados para verificarmos se alguma região estava se apresentando de forma errada na tabela, caso o GPS tenha coletado algo erroneamente ou o usuário tenha digitado errado. Agrupando, é possível verificar se há alguma região errada, com nome diferente, ou inexistente."
   ]
  },
  {
   "cell_type": "markdown",
   "metadata": {},
   "source": [
    "```python\n",
    "    # Quantidade de Streams por região\n",
    "\n",
    "paises = musicas.groupby('Region')\n",
    "paises_sum = paises.sum()\n",
    "paises_sum['Streams'].plot(kind='bar')\n",
    "plt.yscale('log')\n",
    "plt.rcParams['figure.figsize'] = (18,8)\n",
    "plt.legend(loc='upper right', prop={'size':12}, fontsize=1)\n",
    "plt.show()\n",
    "```\n",
    "![Quantidade de Streams por região](output_9_0.png \"Quantidade de Streams por região\")"
   ]
  },
  {
   "cell_type": "markdown",
   "metadata": {},
   "source": [
    "Seguindo a mesma linha de raciocínio utilizada para ver a quantidade de _streams_ por região, analisamos também a quantidade de _streams_ agrupando estes por dia e por mês. Possibilitando uma melhor análise do atributo \"Streams\" em amostras menores."
   ]
  },
  {
   "cell_type": "markdown",
   "metadata": {},
   "source": [
    "```python\n",
    "    #Quantidade de Streams por Dia/Data\n",
    "\n",
    "dias = musicas.groupby(['Days', 'Date'])\n",
    "dias_sum = dias.sum()\n",
    "\n",
    "dias_sum\n",
    "\n",
    "    #Quantidade de Streams por mês\n",
    "\n",
    "meses = musicas.groupby(['Year', 'Month'])\n",
    "meses_sum = meses.sum()\n",
    "meses_sum\n",
    "```"
   ]
  },
  {
   "cell_type": "markdown",
   "metadata": {},
   "source": [
    "Com base nos agrupamentos realizados acima, pudemos gerar um gráfico apresentando um _ranking_ dos cinco meses com mais _streams_."
   ]
  },
  {
   "cell_type": "markdown",
   "metadata": {},
   "source": [
    "```python\n",
    "    #Ranking dos 5 meses com mais Streams\n",
    "\n",
    "meses_sum['Streams'].sort_values(ascending=False).head().plot(kind='bar')\n",
    "plt.rcParams['figure.figsize'] = (4,2)\n",
    "plt.legend(loc='upper right', prop={'size':10}, fontsize=5)\n",
    "plt.show()\n",
    "```\n",
    "![Streams por Mês](StreamsPorMes.png \"Streams por Mês\")"
   ]
  },
  {
   "cell_type": "markdown",
   "metadata": {
    "scrolled": false
   },
   "source": [
    "Associando a quantidade de _streams_ com outros atributos do _dataset_, é possível gerar outras estatísticas para análise. Após manipularmos estas informações com base na data e região, fizemos também a correlação entre os atributos _Streams_ e _Artist_, e entre os atributos _Streams_ e _TrackName_. Limitamos a visulaização para apenas vinte e cinco ítens e apresentamos então um _ranking_ dos 25 artistas mais acessados e das 25 músicas mais acessadas, respectivamente. \n",
    "\n",
    "```python\n",
    "#Ranking dos 25 artistas mais acessados\n",
    "artistas = musicas.groupby('Artist')\n",
    "artistas_soma = artistas.Streams.sum()\n",
    "\n",
    "#Cria um novo dataframe para manipulação\n",
    "contStreams=pd.DataFrame(artistas_soma)\n",
    "contStreamsM = contStreams.Streams.sort_values(ascending=False)\n",
    "contStreamsM = contStreamsM[:25]\n",
    "\n",
    "contStreamsM.plot(kind='bar')\n",
    "plt.rcParams['figure.figsize'] = (18,8)\n",
    "plt.legend(loc='upper right', prop={'size':12}, fontsize=1)\n",
    "plt.yscale('log')\n",
    "plt.show()\n",
    "```\n",
    "![Ranking dos 25 artistas mais acessados](output_8_0.png \"Ranking dos 25 artistas mais acessados\")\n",
    "\n",
    "```python\n",
    "\n",
    "#Ranking das 25 músicas mais acessadas\n",
    "musicas_mais = musicas.groupby('TrackName')\n",
    "musicas_mais_soma = musicas_mais.Streams.sum()\n",
    "\n",
    "#Cria um novo dataframe para manipulação\n",
    "contMusics=pd.DataFrame(musicas_mais_soma)\n",
    "contMusicsM = contMusics.Streams.sort_values(ascending=False)\n",
    "contMusicsM = contMusicsM[:25]\n",
    "\n",
    "contMusicsM.plot(kind='bar')\n",
    "plt.rcParams['figure.figsize'] = (18,8)\n",
    "plt.legend(loc='upper right', prop={'size':12}, fontsize=1)\n",
    "plt.yscale('log')\n",
    "plt.show()\n",
    "```\n",
    "![Ranking das 25 músicas mais acessados](output_8_0.png \"Ranking das 25 músicas mais acessados\")"
   ]
  },
  {
   "cell_type": "markdown",
   "metadata": {},
   "source": [
    "   Em seguida foi feito um gráfico de dispersão no qual o eixo x representa as datas e o eixo y representa as Streams. Este gráfico foi feito pensando que, durante um ano, as visualizações de músicas podem ser mais intensas ou não, e esta análise é interessante para, por exemplo, saber quando colocar mais anúncios em um aplicativo por saber que o fluxo de streams é mais intenso naquela época do ano. Ou é também para saber quando um artista ou vários artistas lançam mais músicas e outras análises podem ser tiradas, a partir deste gráfico, por especialistas.\n",
    "   O gráfico pega todas as datas presentes do nosso dataset, porém foi feita uma filtragem dos xtickslabels, para melhorar a visualização do gráfico, pois se não houvesse tal seleção dos xticklabels, não seria possível a leitura das datas, tornando o gráfico ilegível.\n",
    "\n",
    "```python\n",
    "fig = gcf()\n",
    "ax = fig.gca()\n",
    "plt.style.use('seaborn-poster')\n",
    "\n",
    "y = musicas['Streams']\n",
    "x = musicas['Date'] \n",
    "\n",
    "plt.title('Streams por Data', fontsize='14')\n",
    "plt.xlabel('Data', fontsize='14')\n",
    "plt.ylabel('Streams', fontsize='14')\n",
    "\n",
    "\n",
    "#plt.rcParams['figure.figsize'] = (100,18)\n",
    "#plt.plot(x, y ,'o',color='blue');\n",
    "plt.scatter(x, y ,color='blue',s=50, alpha=.5 );\n",
    "\n",
    "xmarks=['2017-01-01','2017-03-18','2017-08-30','2018-01-09'] # 5 registros\n",
    "plt.xticks(xmarks)\n",
    "\n",
    "labels = [item.get_text() for item in ax.get_xticklabels()]\n",
    "labels[0] = '2017-01-01'\n",
    "labels[1] = '2017-03-18'\n",
    "labels[2] = '2017-08-30'\n",
    "labels[3] = '2018-01-09'\n",
    "ax.set_xticklabels(labels)\n",
    "\n",
    "plt.savefig('StreamsPorData.png') \n",
    "```\n",
    "![Gráfico de Dispersão - Streams por Data](StreamsPorData.png \"Gráfico de Dispersão - Streams por Data\")"
   ]
  },
  {
   "cell_type": "markdown",
   "metadata": {},
   "source": [
    "   Foi feito também um outro gráfico de dispersão, no qual o eixo x representa o nome do cantor e o eixo y representa a track name, que seria o nome da música, sendo assim, gera uma relação que representa a música de cada cantor. Além disso foi representada uma outra camada de cor, através de um colorbar, que representa as Streamns, dessa forma, mostra para nós uma análise das músicas mais tocadas de cada cantor.\n",
    "   Essa análise é muito interessante pois se rodada com o dataset inteiro mostraria todas as músicas mais tocadas de todos os cantores. \n",
    "   \n",
    "```python\n",
    "\n",
    "#Ranking dos 50 musicas mais acessadas, com seus artistas\n",
    "artistas_mus = musicas.groupby(['Artist', 'TrackName'])\n",
    "artistas_mus = artistas_mus.Streams.sum()\n",
    "artistas_mus\n",
    "#Cria um novo dataframe para manipulação\n",
    "artistas_musf=pd.DataFrame(artistas_mus)\n",
    "artistas_musf = artistas_musf.Streams.sort_values(ascending=False)\n",
    "artistas_musf = artistas_musf[:50]\n",
    "art = artistas_musf.reset_index()\n",
    "art\n",
    "\n",
    "fig = gcf()\n",
    "ax = fig.gca()\n",
    "plt.style.use('seaborn-poster')\n",
    "\n",
    "X = art['Artist']\n",
    "Y = art['TrackName']\n",
    "C = art['Streams']\n",
    "\n",
    "plt.rcParams['figure.figsize'] = (100,50)\n",
    "\n",
    "#cmap = mpl.colors.ListedColormap([ 'tab:red', 'tab:orange',  'tab:red'])\n",
    "\n",
    "\n",
    "s = ax.scatter(X,Y,c=C,lw=0.3, s=500, alpha=0.5,  cmap='autumn') #plasma,hsv  'viridis', 'plasma', 'inferno', 'magma', 'cividis', 'autumn']\n",
    "\n",
    "plt.title('Gráfico de artistas por Track name em função das streams.', fontsize='22')\n",
    "plt.ylabel('Track Name', fontsize='14')\n",
    "plt.xlabel('Artist', fontsize='14')\n",
    "\n",
    "\n",
    "#norm = mpl.colors.Normalize(vmin=1, vmax=20)\n",
    "cb = plt.colorbar(s)\n",
    "\n",
    "cb.set_label('Streams', fontsize='14')\n",
    "\n",
    "\n",
    "plt.savefig('ArtistasPorStreamsCores.png') \n",
    "```\n",
    "![Gráfico de Dispersão - Artistas por Streams](ArtistasPorStreamsCores.png \"Gráfico de Dispersão - Artistas por Streams\")"
   ]
  },
  {
   "cell_type": "code",
   "execution_count": null,
   "metadata": {},
   "outputs": [],
   "source": []
  }
 ],
 "metadata": {
  "kernelspec": {
   "display_name": "Python 3",
   "language": "python",
   "name": "python3"
  },
  "language_info": {
   "codemirror_mode": {
    "name": "ipython",
    "version": 3
   },
   "file_extension": ".py",
   "mimetype": "text/x-python",
   "name": "python",
   "nbconvert_exporter": "python",
   "pygments_lexer": "ipython3",
   "version": "3.6.4"
  }
 },
 "nbformat": 4,
 "nbformat_minor": 2
}
